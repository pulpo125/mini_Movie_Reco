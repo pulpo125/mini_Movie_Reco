{
 "cells": [
  {
   "attachments": {},
   "cell_type": "markdown",
   "metadata": {},
   "source": [
    "## IMDB 영화 순위 분석"
   ]
  },
  {
   "attachments": {},
   "cell_type": "markdown",
   "metadata": {},
   "source": [
    "## IMDB Top 250 Movies\n",
    "### About Dataset\n",
    "This dataset is having the data of the top 250 Movies as per their IMDB rating listed on the official website of IMDB\n",
    "\n",
    "### Features\n",
    "\n",
    "rank - Movie Rank as per IMDB rating <br>\n",
    "movie_id - Movie ID <br>\n",
    "title - Name of the Movie <br>\n",
    "year - Year of Movie release <br>\n",
    "link - URL for the Movie <br>\n",
    "imdb_votes - Number of people who voted for the IMDB rating <br>\n",
    "imdb_rating - Rating of the Movie <br>\n",
    "certificate - Movie Certification <br>\n",
    "duration - Duration of the Movie <br>\n",
    "genre - Genre of the Movie <br>\n",
    "cast_id - ID of the cast member who have worked on the Movie <br>\n",
    "cast_name - Name of the cast member who have worked on the Movie <br>\n",
    "director_id - ID of the director who have directed the Movie <br>\n",
    "director_name - Name of the director who have directed the Movie <br>\n",
    "writer_id - ID of the writer who have wrote script for the Movie <br>\n",
    "writer_name - Name of the writer who have wrote script for the Movie <br>\n",
    "storyline - Storyline of the Movie <br>\n",
    "user_id - ID of the user who wrote review for the Movie <br>\n",
    "user_name - Name of the user who wrote review for the Movie <br>\n",
    "review_id - ID of the user review <br>\n",
    "review_title - Short review <br>\n",
    "review_content - Long review <br>"
   ]
  },
  {
   "attachments": {},
   "cell_type": "markdown",
   "metadata": {},
   "source": [
    "- 데이터 불러오기"
   ]
  },
  {
   "cell_type": "code",
   "execution_count": 1,
   "metadata": {},
   "outputs": [],
   "source": [
    "import pandas as pd\n",
    "\n",
    "df = pd.read_csv('data/movies.csv')"
   ]
  },
  {
   "cell_type": "code",
   "execution_count": 2,
   "metadata": {},
   "outputs": [
    {
     "data": {
      "text/html": [
       "<div>\n",
       "<style scoped>\n",
       "    .dataframe tbody tr th:only-of-type {\n",
       "        vertical-align: middle;\n",
       "    }\n",
       "\n",
       "    .dataframe tbody tr th {\n",
       "        vertical-align: top;\n",
       "    }\n",
       "\n",
       "    .dataframe thead th {\n",
       "        text-align: right;\n",
       "    }\n",
       "</style>\n",
       "<table border=\"1\" class=\"dataframe\">\n",
       "  <thead>\n",
       "    <tr style=\"text-align: right;\">\n",
       "      <th></th>\n",
       "      <th>rank</th>\n",
       "      <th>movie_id</th>\n",
       "      <th>title</th>\n",
       "      <th>year</th>\n",
       "      <th>link</th>\n",
       "      <th>imbd_votes</th>\n",
       "      <th>imbd_rating</th>\n",
       "      <th>certificate</th>\n",
       "      <th>duration</th>\n",
       "      <th>genre</th>\n",
       "      <th>...</th>\n",
       "      <th>director_id</th>\n",
       "      <th>director_name</th>\n",
       "      <th>writer_id</th>\n",
       "      <th>writer_name</th>\n",
       "      <th>storyline</th>\n",
       "      <th>user_id</th>\n",
       "      <th>user_name</th>\n",
       "      <th>review_id</th>\n",
       "      <th>review_title</th>\n",
       "      <th>review_content</th>\n",
       "    </tr>\n",
       "  </thead>\n",
       "  <tbody>\n",
       "    <tr>\n",
       "      <th>0</th>\n",
       "      <td>1</td>\n",
       "      <td>tt0111161</td>\n",
       "      <td>The Shawshank Redemption</td>\n",
       "      <td>1994</td>\n",
       "      <td>https://www.imdb.com/title/tt0111161</td>\n",
       "      <td>2,711,075</td>\n",
       "      <td>9.3</td>\n",
       "      <td>R</td>\n",
       "      <td>2h 22m</td>\n",
       "      <td>Drama</td>\n",
       "      <td>...</td>\n",
       "      <td>nm0001104</td>\n",
       "      <td>Frank Darabont</td>\n",
       "      <td>nm0000175,nm0001104</td>\n",
       "      <td>Stephen King,Frank Darabont</td>\n",
       "      <td>Over the course of several years, two convicts...</td>\n",
       "      <td>ur16161013,ur15311310,ur0265899,ur16117882,ur1...</td>\n",
       "      <td>hitchcockthelegend,Sleepin_Dragon,EyeDunno,ale...</td>\n",
       "      <td>rw2284594,rw6606154,rw1221355,rw1822343,rw1288...</td>\n",
       "      <td>Some birds aren't meant to be caged.,An incred...</td>\n",
       "      <td>The Shawshank Redemption is written and direct...</td>\n",
       "    </tr>\n",
       "    <tr>\n",
       "      <th>1</th>\n",
       "      <td>2</td>\n",
       "      <td>tt0068646</td>\n",
       "      <td>The Godfather</td>\n",
       "      <td>1972</td>\n",
       "      <td>https://www.imdb.com/title/tt0068646</td>\n",
       "      <td>1,882,829</td>\n",
       "      <td>9.2</td>\n",
       "      <td>R</td>\n",
       "      <td>2h 55m</td>\n",
       "      <td>Crime,Drama</td>\n",
       "      <td>...</td>\n",
       "      <td>nm0000338</td>\n",
       "      <td>Francis Ford Coppola</td>\n",
       "      <td>nm0701374,nm0000338</td>\n",
       "      <td>Mario Puzo,Francis Ford Coppola</td>\n",
       "      <td>The aging patriarch of an organized crime dyna...</td>\n",
       "      <td>ur24740649,ur86182727,ur15794099,ur15311310,ur...</td>\n",
       "      <td>CalRhys,andrewburgereviews,gogoschka-1,Sleepin...</td>\n",
       "      <td>rw3038370,rw4756923,rw4059579,rw6568526,rw1897...</td>\n",
       "      <td>The Pinnacle Of Flawless Films!,An offer so go...</td>\n",
       "      <td>'The Godfather' is the pinnacle of flawless fi...</td>\n",
       "    </tr>\n",
       "    <tr>\n",
       "      <th>2</th>\n",
       "      <td>3</td>\n",
       "      <td>tt0468569</td>\n",
       "      <td>The Dark Knight</td>\n",
       "      <td>2008</td>\n",
       "      <td>https://www.imdb.com/title/tt0468569</td>\n",
       "      <td>2,684,051</td>\n",
       "      <td>9.0</td>\n",
       "      <td>PG-13</td>\n",
       "      <td>2h 32m</td>\n",
       "      <td>Action,Crime,Drama</td>\n",
       "      <td>...</td>\n",
       "      <td>nm0634240</td>\n",
       "      <td>Christopher Nolan</td>\n",
       "      <td>tt0468569,nm0634300,nm0634240,nm0275286,tt0468569</td>\n",
       "      <td>Writers,Jonathan Nolan,Christopher Nolan,David...</td>\n",
       "      <td>When the menace known as the Joker wreaks havo...</td>\n",
       "      <td>ur87850731,ur1293485,ur129557514,ur12449122,ur...</td>\n",
       "      <td>MrHeraclius,Smells_Like_Cheese,dseferaj,little...</td>\n",
       "      <td>rw5478826,rw1914442,rw6606026,rw1917099,rw5170...</td>\n",
       "      <td>The Dark Knight,The Batman of our dreams! So m...</td>\n",
       "      <td>Confidently directed, dark, brooding, and pack...</td>\n",
       "    </tr>\n",
       "    <tr>\n",
       "      <th>3</th>\n",
       "      <td>4</td>\n",
       "      <td>tt0071562</td>\n",
       "      <td>The Godfather Part II</td>\n",
       "      <td>1974</td>\n",
       "      <td>https://www.imdb.com/title/tt0071562</td>\n",
       "      <td>1,285,350</td>\n",
       "      <td>9.0</td>\n",
       "      <td>R</td>\n",
       "      <td>3h 22m</td>\n",
       "      <td>Crime,Drama</td>\n",
       "      <td>...</td>\n",
       "      <td>nm0000338</td>\n",
       "      <td>Francis Ford Coppola</td>\n",
       "      <td>nm0000338,nm0701374</td>\n",
       "      <td>Francis Ford Coppola,Mario Puzo</td>\n",
       "      <td>The early life and career of Vito Corleone in ...</td>\n",
       "      <td>ur0176092,ur0688559,ur92260614,ur0200644,ur117...</td>\n",
       "      <td>Nazi_Fighter_David,tfrizzell,umunir-36959,DanB...</td>\n",
       "      <td>rw0135607,rw0135487,rw5049900,rw0135526,rw0135...</td>\n",
       "      <td>Breathtaking in its scope and tragic grandeur....</td>\n",
       "      <td>Coppola's masterpiece is rivaled only by \"The ...</td>\n",
       "    </tr>\n",
       "    <tr>\n",
       "      <th>4</th>\n",
       "      <td>5</td>\n",
       "      <td>tt0050083</td>\n",
       "      <td>12 Angry Men</td>\n",
       "      <td>1957</td>\n",
       "      <td>https://www.imdb.com/title/tt0050083</td>\n",
       "      <td>800,954</td>\n",
       "      <td>9.0</td>\n",
       "      <td>Approved</td>\n",
       "      <td>1h 36m</td>\n",
       "      <td>Crime,Drama</td>\n",
       "      <td>...</td>\n",
       "      <td>nm0001486</td>\n",
       "      <td>Sidney Lumet</td>\n",
       "      <td>nm0741627</td>\n",
       "      <td>Reginald Rose</td>\n",
       "      <td>The jury in a New York City murder trial is fr...</td>\n",
       "      <td>ur1318549,ur0643062,ur0688559,ur20552756,ur945...</td>\n",
       "      <td>uds3,tedg,tfrizzell,TheLittleSongbird,henrique...</td>\n",
       "      <td>rw0060044,rw0060025,rw0060034,rw2262425,rw5448...</td>\n",
       "      <td>The over-used term \"classic movie\" really come...</td>\n",
       "      <td>This once-in-a-generation masterpiece simply h...</td>\n",
       "    </tr>\n",
       "  </tbody>\n",
       "</table>\n",
       "<p>5 rows × 22 columns</p>\n",
       "</div>"
      ],
      "text/plain": [
       "   rank   movie_id                     title  year  \\\n",
       "0     1  tt0111161  The Shawshank Redemption  1994   \n",
       "1     2  tt0068646             The Godfather  1972   \n",
       "2     3  tt0468569           The Dark Knight  2008   \n",
       "3     4  tt0071562     The Godfather Part II  1974   \n",
       "4     5  tt0050083              12 Angry Men  1957   \n",
       "\n",
       "                                   link imbd_votes  imbd_rating certificate  \\\n",
       "0  https://www.imdb.com/title/tt0111161  2,711,075          9.3           R   \n",
       "1  https://www.imdb.com/title/tt0068646  1,882,829          9.2           R   \n",
       "2  https://www.imdb.com/title/tt0468569  2,684,051          9.0       PG-13   \n",
       "3  https://www.imdb.com/title/tt0071562  1,285,350          9.0           R   \n",
       "4  https://www.imdb.com/title/tt0050083    800,954          9.0    Approved   \n",
       "\n",
       "  duration               genre  ... director_id         director_name  \\\n",
       "0   2h 22m               Drama  ...   nm0001104        Frank Darabont   \n",
       "1   2h 55m         Crime,Drama  ...   nm0000338  Francis Ford Coppola   \n",
       "2   2h 32m  Action,Crime,Drama  ...   nm0634240     Christopher Nolan   \n",
       "3   3h 22m         Crime,Drama  ...   nm0000338  Francis Ford Coppola   \n",
       "4   1h 36m         Crime,Drama  ...   nm0001486          Sidney Lumet   \n",
       "\n",
       "                                           writer_id  \\\n",
       "0                                nm0000175,nm0001104   \n",
       "1                                nm0701374,nm0000338   \n",
       "2  tt0468569,nm0634300,nm0634240,nm0275286,tt0468569   \n",
       "3                                nm0000338,nm0701374   \n",
       "4                                          nm0741627   \n",
       "\n",
       "                                         writer_name  \\\n",
       "0                        Stephen King,Frank Darabont   \n",
       "1                    Mario Puzo,Francis Ford Coppola   \n",
       "2  Writers,Jonathan Nolan,Christopher Nolan,David...   \n",
       "3                    Francis Ford Coppola,Mario Puzo   \n",
       "4                                      Reginald Rose   \n",
       "\n",
       "                                           storyline  \\\n",
       "0  Over the course of several years, two convicts...   \n",
       "1  The aging patriarch of an organized crime dyna...   \n",
       "2  When the menace known as the Joker wreaks havo...   \n",
       "3  The early life and career of Vito Corleone in ...   \n",
       "4  The jury in a New York City murder trial is fr...   \n",
       "\n",
       "                                             user_id  \\\n",
       "0  ur16161013,ur15311310,ur0265899,ur16117882,ur1...   \n",
       "1  ur24740649,ur86182727,ur15794099,ur15311310,ur...   \n",
       "2  ur87850731,ur1293485,ur129557514,ur12449122,ur...   \n",
       "3  ur0176092,ur0688559,ur92260614,ur0200644,ur117...   \n",
       "4  ur1318549,ur0643062,ur0688559,ur20552756,ur945...   \n",
       "\n",
       "                                           user_name  \\\n",
       "0  hitchcockthelegend,Sleepin_Dragon,EyeDunno,ale...   \n",
       "1  CalRhys,andrewburgereviews,gogoschka-1,Sleepin...   \n",
       "2  MrHeraclius,Smells_Like_Cheese,dseferaj,little...   \n",
       "3  Nazi_Fighter_David,tfrizzell,umunir-36959,DanB...   \n",
       "4  uds3,tedg,tfrizzell,TheLittleSongbird,henrique...   \n",
       "\n",
       "                                           review_id  \\\n",
       "0  rw2284594,rw6606154,rw1221355,rw1822343,rw1288...   \n",
       "1  rw3038370,rw4756923,rw4059579,rw6568526,rw1897...   \n",
       "2  rw5478826,rw1914442,rw6606026,rw1917099,rw5170...   \n",
       "3  rw0135607,rw0135487,rw5049900,rw0135526,rw0135...   \n",
       "4  rw0060044,rw0060025,rw0060034,rw2262425,rw5448...   \n",
       "\n",
       "                                        review_title  \\\n",
       "0  Some birds aren't meant to be caged.,An incred...   \n",
       "1  The Pinnacle Of Flawless Films!,An offer so go...   \n",
       "2  The Dark Knight,The Batman of our dreams! So m...   \n",
       "3  Breathtaking in its scope and tragic grandeur....   \n",
       "4  The over-used term \"classic movie\" really come...   \n",
       "\n",
       "                                      review_content  \n",
       "0  The Shawshank Redemption is written and direct...  \n",
       "1  'The Godfather' is the pinnacle of flawless fi...  \n",
       "2  Confidently directed, dark, brooding, and pack...  \n",
       "3  Coppola's masterpiece is rivaled only by \"The ...  \n",
       "4  This once-in-a-generation masterpiece simply h...  \n",
       "\n",
       "[5 rows x 22 columns]"
      ]
     },
     "execution_count": 2,
     "metadata": {},
     "output_type": "execute_result"
    }
   ],
   "source": [
    "df.head()"
   ]
  },
  {
   "cell_type": "code",
   "execution_count": 3,
   "metadata": {},
   "outputs": [],
   "source": [
    "# 필요한 컬럼만 슬라이싱\n",
    "data = df[['rank', 'movie_id', 'title', 'year', 'link', 'imbd_votes', 'imbd_rating', 'duration', 'genre', 'cast_id', 'cast_name', 'director_id', 'director_name', 'writer_id', 'writer_name',\n",
    "       'storyline']]"
   ]
  },
  {
   "attachments": {},
   "cell_type": "markdown",
   "metadata": {},
   "source": [
    "- 데이터 확인하기"
   ]
  },
  {
   "cell_type": "code",
   "execution_count": 4,
   "metadata": {},
   "outputs": [
    {
     "name": "stdout",
     "output_type": "stream",
     "text": [
      "<class 'pandas.core.frame.DataFrame'>\n",
      "RangeIndex: 250 entries, 0 to 249\n",
      "Data columns (total 16 columns):\n",
      " #   Column         Non-Null Count  Dtype  \n",
      "---  ------         --------------  -----  \n",
      " 0   rank           250 non-null    int64  \n",
      " 1   movie_id       250 non-null    object \n",
      " 2   title          250 non-null    object \n",
      " 3   year           250 non-null    int64  \n",
      " 4   link           250 non-null    object \n",
      " 5   imbd_votes     250 non-null    object \n",
      " 6   imbd_rating    250 non-null    float64\n",
      " 7   duration       250 non-null    object \n",
      " 8   genre          250 non-null    object \n",
      " 9   cast_id        250 non-null    object \n",
      " 10  cast_name      250 non-null    object \n",
      " 11  director_id    250 non-null    object \n",
      " 12  director_name  250 non-null    object \n",
      " 13  writer_id      250 non-null    object \n",
      " 14  writer_name    250 non-null    object \n",
      " 15  storyline      250 non-null    object \n",
      "dtypes: float64(1), int64(2), object(13)\n",
      "memory usage: 31.4+ KB\n"
     ]
    }
   ],
   "source": [
    "data.info()"
   ]
  },
  {
   "cell_type": "code",
   "execution_count": 5,
   "metadata": {},
   "outputs": [
    {
     "data": {
      "text/plain": [
       "rank             0\n",
       "movie_id         0\n",
       "title            0\n",
       "year             0\n",
       "link             0\n",
       "imbd_votes       0\n",
       "imbd_rating      0\n",
       "duration         0\n",
       "genre            0\n",
       "cast_id          0\n",
       "cast_name        0\n",
       "director_id      0\n",
       "director_name    0\n",
       "writer_id        0\n",
       "writer_name      0\n",
       "storyline        0\n",
       "dtype: int64"
      ]
     },
     "execution_count": 5,
     "metadata": {},
     "output_type": "execute_result"
    }
   ],
   "source": [
    "# 결측치 확인\n",
    "data.isnull().sum()"
   ]
  },
  {
   "attachments": {},
   "cell_type": "markdown",
   "metadata": {},
   "source": [
    "- 데이터 전처리"
   ]
  },
  {
   "cell_type": "code",
   "execution_count": 6,
   "metadata": {},
   "outputs": [
    {
     "name": "stderr",
     "output_type": "stream",
     "text": [
      "C:\\Users\\Playdata\\AppData\\Local\\Temp\\ipykernel_12912\\2090714573.py:3: SettingWithCopyWarning: \n",
      "A value is trying to be set on a copy of a slice from a DataFrame.\n",
      "Try using .loc[row_indexer,col_indexer] = value instead\n",
      "\n",
      "See the caveats in the documentation: https://pandas.pydata.org/pandas-docs/stable/user_guide/indexing.html#returning-a-view-versus-a-copy\n",
      "  data['imbd_votes'] = data['imbd_votes'].str.replace(',', '').astype('int64')\n"
     ]
    }
   ],
   "source": [
    "# imbd_votes: 정수형 변환\n",
    "# 천 단위 콤마(,) 삭제 후 정수형 변환\n",
    "data['imbd_votes'] = data['imbd_votes'].str.replace(',', '').astype('int64')"
   ]
  },
  {
   "cell_type": "code",
   "execution_count": 7,
   "metadata": {},
   "outputs": [
    {
     "data": {
      "text/plain": [
       "0    2711075\n",
       "1    1882829\n",
       "2    2684051\n",
       "3    1285350\n",
       "4     800954\n",
       "Name: imbd_votes, dtype: int64"
      ]
     },
     "execution_count": 7,
     "metadata": {},
     "output_type": "execute_result"
    }
   ],
   "source": [
    "# 확인\n",
    "data['imbd_votes'].head()"
   ]
  },
  {
   "attachments": {},
   "cell_type": "markdown",
   "metadata": {},
   "source": [
    "- 데이터 저장"
   ]
  },
  {
   "cell_type": "code",
   "execution_count": 15,
   "metadata": {},
   "outputs": [],
   "source": [
    "data.to_csv('data/movie_eda.csv', index=False)"
   ]
  }
 ],
 "metadata": {
  "kernelspec": {
   "display_name": "base",
   "language": "python",
   "name": "python3"
  },
  "language_info": {
   "codemirror_mode": {
    "name": "ipython",
    "version": 3
   },
   "file_extension": ".py",
   "mimetype": "text/x-python",
   "name": "python",
   "nbconvert_exporter": "python",
   "pygments_lexer": "ipython3",
   "version": "3.10.9"
  },
  "orig_nbformat": 4
 },
 "nbformat": 4,
 "nbformat_minor": 2
}
